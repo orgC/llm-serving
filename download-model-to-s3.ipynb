{
    "cells": [
     {
      "cell_type": "markdown",
      "metadata": {
       "tags": []
      },
      "source": [
       "# Download and Save the Model\n",
       "\n",
       "To save this model so that you can use it from various locations, including other notebooks or the model server, upload it to s3-compatible storage."
      ]
     },
     {
      "cell_type": "code",
      "execution_count": 1,
      "metadata": {
       "tags": []
      },
      "outputs": [
       {
        "name": "stdout",
        "output_type": "stream",
        "text": [
         "Requirement already satisfied: boto3 in /opt/app-root/lib/python3.9/site-packages (1.28.83)\n",
         "Requirement already satisfied: botocore in /opt/app-root/lib/python3.9/site-packages (1.31.83)\n",
         "Requirement already satisfied: s3transfer<0.8.0,>=0.7.0 in /opt/app-root/lib/python3.9/site-packages (from boto3) (0.7.0)\n",
         "Requirement already satisfied: jmespath<2.0.0,>=0.7.1 in /opt/app-root/lib/python3.9/site-packages (from boto3) (1.0.1)\n",
         "Requirement already satisfied: python-dateutil<3.0.0,>=2.1 in /opt/app-root/lib/python3.9/site-packages (from botocore) (2.8.2)\n",
         "Requirement already satisfied: urllib3<1.27,>=1.25.4 in /opt/app-root/lib/python3.9/site-packages (from botocore) (1.26.18)\n",
         "Requirement already satisfied: six>=1.5 in /opt/app-root/lib/python3.9/site-packages (from python-dateutil<3.0.0,>=2.1->botocore) (1.16.0)\n",
         "\n",
         "\u001b[1m[\u001b[0m\u001b[34;49mnotice\u001b[0m\u001b[1;39;49m]\u001b[0m\u001b[39;49m A new release of pip available: \u001b[0m\u001b[31;49m22.2.2\u001b[0m\u001b[39;49m -> \u001b[0m\u001b[32;49m24.3.1\u001b[0m\n",
         "\u001b[1m[\u001b[0m\u001b[34;49mnotice\u001b[0m\u001b[1;39;49m]\u001b[0m\u001b[39;49m To update, run: \u001b[0m\u001b[32;49mpip install --upgrade pip\u001b[0m\n"
        ]
       }
      ],
      "source": [
       "!pip install boto3 botocore"
      ]
     },
     {
      "cell_type": "markdown",
      "metadata": {
       "tags": []
      },
      "source": [
       "## Install the required packages and define a function for the upload"
      ]
     },
     {
      "cell_type": "markdown",
      "metadata": {},
      "source": [
       "## Download from Huggingface"
      ]
     },
     {
      "cell_type": "code",
      "execution_count": 2,
      "metadata": {
       "collapsed": false,
       "jupyter": {
        "outputs_hidden": false
       },
       "tags": []
      },
      "outputs": [
       {
        "name": "stdout",
        "output_type": "stream",
        "text": [
         "Downloading to ./granite-3.0-8b-instruct\n",
         "\u001b[1;33mgranite-3.0-8b-instruct exists, Skip Clone.\n",
         "\u001b[0mAlready up to date.\n",
         "\n",
         "Start Downloading lfs files, bash script:\n",
         "aria2c --header=\"Authorization: Bearer <your token>\" -x 8 -s 8 -k 1M -c \"https://huggingface.co/ibm-granite/granite-3.0-8b-instruct/resolve/main/model-00001-of-00004.safetensors\" -d \".\" -o \"model-00001-of-00004.safetensors\"\n",
         "aria2c --header=\"Authorization: Bearer <your token>\" -x 8 -s 8 -k 1M -c \"https://huggingface.co/ibm-granite/granite-3.0-8b-instruct/resolve/main/model-00002-of-00004.safetensors\" -d \".\" -o \"model-00002-of-00004.safetensors\"\n",
         "aria2c --header=\"Authorization: Bearer <your token>\" -x 8 -s 8 -k 1M -c \"https://huggingface.co/ibm-granite/granite-3.0-8b-instruct/resolve/main/model-00003-of-00004.safetensors\" -d \".\" -o \"model-00003-of-00004.safetensors\"\n",
         "aria2c --header=\"Authorization: Bearer <your token>\" -x 8 -s 8 -k 1M -c \"https://huggingface.co/ibm-granite/granite-3.0-8b-instruct/resolve/main/model-00004-of-00004.safetensors\" -d \".\" -o \"model-00004-of-00004.safetensors\"\n",
         "\n",
         "11/23 12:46:30 [\u001b[1;32mNOTICE\u001b[0m] Downloading 1 item(s)\n",
         "\n",
         "11/23 12:46:30 [\u001b[1;32mNOTICE\u001b[0m] CUID#7 - Redirecting to https://cdn-lfs-us-1.hf.co/repos/b6/54/b6542f2bb0497ba01fa1cc647f6f0b32143d5ff7da0261d25a9064fc930b4f4f/c4ff3e91b9d5c5285e29e497fdefa76ec40b66ebf55e4e6a1b179bde6068d401?response-content-disposition=inline%3B+filename*%3DUTF-8%27%27model-00001-of-00004.safetensors%3B+filename%3D%22model-00001-of-00004.safetensors%22%3B&Expires=1732624985&Policy=eyJTdGF0ZW1lbnQiOlt7IkNvbmRpdGlvbiI6eyJEYXRlTGVzc1RoYW4iOnsiQVdTOkVwb2NoVGltZSI6MTczMjYyNDk4NX19LCJSZXNvdXJjZSI6Imh0dHBzOi8vY2RuLWxmcy11cy0xLmhmLmNvL3JlcG9zL2I2LzU0L2I2NTQyZjJiYjA0OTdiYTAxZmExY2M2NDdmNmYwYjMyMTQzZDVmZjdkYTAyNjFkMjVhOTA2NGZjOTMwYjRmNGYvYzRmZjNlOTFiOWQ1YzUyODVlMjllNDk3ZmRlZmE3NmVjNDBiNjZlYmY1NWU0ZTZhMWIxNzliZGU2MDY4ZDQwMT9yZXNwb25zZS1jb250ZW50LWRpc3Bvc2l0aW9uPSoifV19&Signature=hcNvSyglL80-RI%7EqKUMrcTcDhlWsHeg5WFXNWY04brE-XzJo1sLmlHSwrLBzaQka7seKHpJzmtqjMbVCCEXt-q9Ehv3i5hXne68ZJqm4pAtmNxsZ479237o9tshwKcA4fN4MHduccCiaJVv0oHsuMewgknY29IKEqpOaDoeAPnHgVmy6ay9Mt4N8t3dKsLIAZC3FQNnpo%7E4jomCj11-oLEsUVr9gigwtsTZEA8JgDk9jp1%7EqnvfyUb4dzTPbqIpUTLkWZ%7EOyfLBSIM70q6%7Eoi%7E5jJtDJR1HjrTN5Kbp-vGXL7SK230t1lp3wMj2G7A%7Edv%7Ex8SPZFFt7yKi8mLHibZw__&Key-Pair-Id=K24J24Z295AEI9\n",
         "\n",
         "11/23 12:46:30 [\u001b[1;32mNOTICE\u001b[0m] GID#530ee18b6b7ad69b - Download has already completed: ./model-00001-of-00004.safetensors\n",
         "\n",
         "11/23 12:46:30 [\u001b[1;32mNOTICE\u001b[0m] Download complete: ./model-00001-of-00004.safetensors\n",
         "\n",
         "Download Results:\n",
         "gid   |stat|avg speed  |path/URI\n",
         "======+====+===========+=======================================================\n",
         "530ee1|\u001b[1;32mOK\u001b[0m  |       0B/s|./model-00001-of-00004.safetensors\n",
         "\n",
         "Status Legend:\n",
         "(OK):download completed.\n",
         "Downloaded https://huggingface.co/ibm-granite/granite-3.0-8b-instruct/resolve/main/model-00001-of-00004.safetensors successfully.\n",
         "\n",
         "11/23 12:46:30 [\u001b[1;32mNOTICE\u001b[0m] Downloading 1 item(s)\n",
         "\n",
         "11/23 12:46:30 [\u001b[1;32mNOTICE\u001b[0m] CUID#7 - Redirecting to https://cdn-lfs-us-1.hf.co/repos/b6/54/b6542f2bb0497ba01fa1cc647f6f0b32143d5ff7da0261d25a9064fc930b4f4f/bf66c4326101ba7df9b62392164168aa4ed860e869b90ee5017bb331e0861d2a?response-content-disposition=inline%3B+filename*%3DUTF-8%27%27model-00002-of-00004.safetensors%3B+filename%3D%22model-00002-of-00004.safetensors%22%3B&Expires=1732625190&Policy=eyJTdGF0ZW1lbnQiOlt7IkNvbmRpdGlvbiI6eyJEYXRlTGVzc1RoYW4iOnsiQVdTOkVwb2NoVGltZSI6MTczMjYyNTE5MH19LCJSZXNvdXJjZSI6Imh0dHBzOi8vY2RuLWxmcy11cy0xLmhmLmNvL3JlcG9zL2I2LzU0L2I2NTQyZjJiYjA0OTdiYTAxZmExY2M2NDdmNmYwYjMyMTQzZDVmZjdkYTAyNjFkMjVhOTA2NGZjOTMwYjRmNGYvYmY2NmM0MzI2MTAxYmE3ZGY5YjYyMzkyMTY0MTY4YWE0ZWQ4NjBlODY5YjkwZWU1MDE3YmIzMzFlMDg2MWQyYT9yZXNwb25zZS1jb250ZW50LWRpc3Bvc2l0aW9uPSoifV19&Signature=MFVQAsz4f7My%7EeIZfHvLnv1VsK%7EzrLut83gDeonJ4Rr8KQ-zzpU0%7ERwg%7EZVnR0d3T9uJSf6xFY5XQgbOsR3gMPIkinaNY9u5YsWieD7G6yO0nD1o6i04JFFBds1bQCmXJNE0bpjVp%7EXi%7ESyT9Onx-R3Feszy%7E6PMMxy5ofznXseqHf7zctWxXeIpwSxtGZ%7E6QBmetZUcisEP82C2cL7cMGR7GiD4ZMlBsdXfbAtqly3Pq1qpyF8zgeinHNEzkOx92C7EDBxqf7MOZ17OMqOdQG60A-pp7tv6CNXaMDjwfFVStU8JPE8J7dqQYYKzD5VEgCTLdhV-gTfkIIvHc9wJuA__&Key-Pair-Id=K24J24Z295AEI9\n",
         "\n",
         "11/23 12:46:30 [\u001b[1;32mNOTICE\u001b[0m] GID#9be9ef5c81f8c955 - Download has already completed: ./model-00002-of-00004.safetensors\n",
         "\n",
         "11/23 12:46:30 [\u001b[1;32mNOTICE\u001b[0m] Download complete: ./model-00002-of-00004.safetensors\n",
         "\n",
         "Download Results:\n",
         "gid   |stat|avg speed  |path/URI\n",
         "======+====+===========+=======================================================\n",
         "9be9ef|\u001b[1;32mOK\u001b[0m  |       0B/s|./model-00002-of-00004.safetensors\n",
         "\n",
         "Status Legend:\n",
         "(OK):download completed.\n",
         "Downloaded https://huggingface.co/ibm-granite/granite-3.0-8b-instruct/resolve/main/model-00002-of-00004.safetensors successfully.\n",
         "\n",
         "11/23 12:46:30 [\u001b[1;32mNOTICE\u001b[0m] Downloading 1 item(s)\n",
         "\n",
         "11/23 12:46:30 [\u001b[1;32mNOTICE\u001b[0m] CUID#7 - Redirecting to https://cdn-lfs-us-1.hf.co/repos/b6/54/b6542f2bb0497ba01fa1cc647f6f0b32143d5ff7da0261d25a9064fc930b4f4f/90be34abd8a4f86e251d4ebc5224424dd223d90a7e51875fd0bc277c8207c40f?response-content-disposition=inline%3B+filename*%3DUTF-8%27%27model-00003-of-00004.safetensors%3B+filename%3D%22model-00003-of-00004.safetensors%22%3B&Expires=1732625190&Policy=eyJTdGF0ZW1lbnQiOlt7IkNvbmRpdGlvbiI6eyJEYXRlTGVzc1RoYW4iOnsiQVdTOkVwb2NoVGltZSI6MTczMjYyNTE5MH19LCJSZXNvdXJjZSI6Imh0dHBzOi8vY2RuLWxmcy11cy0xLmhmLmNvL3JlcG9zL2I2LzU0L2I2NTQyZjJiYjA0OTdiYTAxZmExY2M2NDdmNmYwYjMyMTQzZDVmZjdkYTAyNjFkMjVhOTA2NGZjOTMwYjRmNGYvOTBiZTM0YWJkOGE0Zjg2ZTI1MWQ0ZWJjNTIyNDQyNGRkMjIzZDkwYTdlNTE4NzVmZDBiYzI3N2M4MjA3YzQwZj9yZXNwb25zZS1jb250ZW50LWRpc3Bvc2l0aW9uPSoifV19&Signature=pXOCoxbwLbm%7Eto5yznFvXfOpLYPyiStWrifRcRjtE%7EakNfxQfmHhD0kbCAQnt1idFyLrTzh7jAlEXYP5sMxsQEJzOa0ljxnxvjpbPrPS57mKWG-KlghsePjFhUXuxtu8TPUhJHqqqKT6CLNX3WSND0h4GQ5uWN3At6nB1DalR%7Epb9G6hjoue9lGumTTRn2ZYLoWvI-2iSTYO%7EhS7y60%7EfekigkCrmjo3lKZKKrLkfXmEe6qAqfAC9XqY1z3IZuE6WM4QESvF3dCRevq0wc7lR8B5ZU9j%7EBBF7jmjRe7Y39VINJ6zYx6DUlctFcUPjVvmpHKuYVVtNNHWeoLJidPVIw__&Key-Pair-Id=K24J24Z295AEI9\n",
         "\n",
         "11/23 12:46:30 [\u001b[1;32mNOTICE\u001b[0m] GID#6280a5b15dc004d3 - Download has already completed: ./model-00003-of-00004.safetensors\n",
         "\n",
         "11/23 12:46:30 [\u001b[1;32mNOTICE\u001b[0m] Download complete: ./model-00003-of-00004.safetensors\n",
         "\n",
         "Download Results:\n",
         "gid   |stat|avg speed  |path/URI\n",
         "======+====+===========+=======================================================\n",
         "6280a5|\u001b[1;32mOK\u001b[0m  |       0B/s|./model-00003-of-00004.safetensors\n",
         "\n",
         "Status Legend:\n",
         "(OK):download completed.\n",
         "Downloaded https://huggingface.co/ibm-granite/granite-3.0-8b-instruct/resolve/main/model-00003-of-00004.safetensors successfully.\n",
         "\n",
         "11/23 12:46:30 [\u001b[1;32mNOTICE\u001b[0m] Downloading 1 item(s)\n",
         "\n",
         "11/23 12:46:31 [\u001b[1;32mNOTICE\u001b[0m] CUID#7 - Redirecting to https://cdn-lfs-us-1.hf.co/repos/b6/54/b6542f2bb0497ba01fa1cc647f6f0b32143d5ff7da0261d25a9064fc930b4f4f/79c434f5c43d0bbd99b07f0c3c2e336481714e0845a27969ac8c060722fb8ceb?response-content-disposition=inline%3B+filename*%3DUTF-8%27%27model-00004-of-00004.safetensors%3B+filename%3D%22model-00004-of-00004.safetensors%22%3B&Expires=1732625191&Policy=eyJTdGF0ZW1lbnQiOlt7IkNvbmRpdGlvbiI6eyJEYXRlTGVzc1RoYW4iOnsiQVdTOkVwb2NoVGltZSI6MTczMjYyNTE5MX19LCJSZXNvdXJjZSI6Imh0dHBzOi8vY2RuLWxmcy11cy0xLmhmLmNvL3JlcG9zL2I2LzU0L2I2NTQyZjJiYjA0OTdiYTAxZmExY2M2NDdmNmYwYjMyMTQzZDVmZjdkYTAyNjFkMjVhOTA2NGZjOTMwYjRmNGYvNzljNDM0ZjVjNDNkMGJiZDk5YjA3ZjBjM2MyZTMzNjQ4MTcxNGUwODQ1YTI3OTY5YWM4YzA2MDcyMmZiOGNlYj9yZXNwb25zZS1jb250ZW50LWRpc3Bvc2l0aW9uPSoifV19&Signature=ljf7S8xtJcDNbjxeNWlbMBxdg967eHsVXQO-dhgNUe676zacmAyKL72jC4f6bRa7Oha0fmvg0byRSbrZ8Dbu5aJZnXa41bcZFycSQU99AHrl90p9ymnCWyXDw041bG3xMWDchQdwTT7n3iCHu0Qkzo2rxDQFRAy1W%7E0aJxqEi2qE6PhKys2GgAkMuocgBuXZOe1X4B3BQ5i9SZ5iiNTcuddPSAiKngclhg0eU5LkFS3e6KckF2xzZ6T8fI414DeeNjWoTHVBuvpOmXqLk1J0gEC6YrpAn8RD90x5lJsITS2NHUUDOH1OBlXP5mdwQL2dMls6xDPtDO4Iq1IUAMUIvw__&Key-Pair-Id=K24J24Z295AEI9\n",
         "\n",
         "11/23 12:46:31 [\u001b[1;32mNOTICE\u001b[0m] GID#340dcf50fa0c8efb - Download has already completed: ./model-00004-of-00004.safetensors\n",
         "\n",
         "11/23 12:46:31 [\u001b[1;32mNOTICE\u001b[0m] Download complete: ./model-00004-of-00004.safetensors\n",
         "\n",
         "Download Results:\n",
         "gid   |stat|avg speed  |path/URI\n",
         "======+====+===========+=======================================================\n",
         "340dcf|\u001b[1;32mOK\u001b[0m  |       0B/s|./model-00004-of-00004.safetensors\n",
         "\n",
         "Status Legend:\n",
         "(OK):download completed.\n",
         "Downloaded https://huggingface.co/ibm-granite/granite-3.0-8b-instruct/resolve/main/model-00004-of-00004.safetensors successfully.\n",
         "\u001b[0;32mDownload completed successfully.\n",
         "\u001b[0m"
        ]
       }
      ],
      "source": [
       "# !git clone https://huggingface.co/ibm-granite/granite-3.0-8b-instruct\n",
       "!hfd ibm-granite/granite-3.0-8b-instruct --exclude original/ --hf_username $HF_USERNAME --hf_token $HF_TOKEN --tool aria2c -x 8"
      ]
     },
     {
      "cell_type": "markdown",
      "metadata": {},
      "source": [
       "## Helper functions for upload"
      ]
     },
     {
      "cell_type": "code",
      "execution_count": 3,
      "metadata": {
       "tags": []
      },
      "outputs": [],
      "source": [
       "import os\n",
       "import boto3\n",
       "import botocore\n",
       "\n",
       "aws_access_key_id = os.environ.get('AWS_ACCESS_KEY_ID')\n",
       "aws_secret_access_key = os.environ.get('AWS_SECRET_ACCESS_KEY')\n",
       "endpoint_url = os.environ.get('AWS_S3_ENDPOINT')\n",
       "region_name = os.environ.get('AWS_DEFAULT_REGION')\n",
       "bucket_name = os.environ.get('AWS_S3_BUCKET')\n",
       "\n",
       "session = boto3.session.Session(aws_access_key_id=aws_access_key_id,\n",
       "                                aws_secret_access_key=aws_secret_access_key)\n",
       "\n",
       "s3_resource = session.resource(\n",
       "    's3',\n",
       "    config=botocore.client.Config(signature_version='s3v4'),\n",
       "    endpoint_url=endpoint_url,\n",
       "    region_name=region_name)\n",
       "\n",
       "bucket = s3_resource.Bucket(bucket_name)\n",
       "\n",
       "#upload the model directory without git\n",
       "def upload_directory_to_s3(local_directory, s3_prefix):\n",
       "    for root, dirs, files in os.walk(local_directory):\n",
       "        for filename in files:\n",
       "            file_path = os.path.join(root, filename)\n",
       "            relative_path = os.path.relpath(file_path, local_directory)\n",
       "            if \".git\" in relative_path:\n",
       "                continue\n",
       "            s3_key = os.path.join(s3_prefix, relative_path)\n",
       "            print(f\"{file_path} -> {s3_key}\")\n",
       "            bucket.upload_file(file_path, s3_key)\n",
       "\n",
       "\n",
       "def list_objects(prefix):\n",
       "    filter = bucket.objects.filter(Prefix=prefix)\n",
       "    for obj in filter.all():\n",
       "        print(obj.key)"
      ]
     },
     {
      "cell_type": "markdown",
      "metadata": {
       "tags": []
      },
      "source": [
       "## Check the Storage Bucket\n",
       "\n",
       "In your S3 bucket, under the `models` upload prefix, run the `list_object` command. As best practice, to avoid mixing up model files, keep only one model and its required files in a given prefix or directory. This practice allows you to download and serve a directory with all the files that a model requires. \n",
       "\n",
       "If this is the first time running the code, this cell will have no output or the fraud model from the predictive AI/ML exercise.\n"
      ]
     },
     {
      "cell_type": "code",
      "execution_count": 4,
      "metadata": {
       "tags": []
      },
      "outputs": [],
      "source": [
       "list_objects(\"models\")"
      ]
     },
     {
      "cell_type": "markdown",
      "metadata": {
       "tags": []
      },
      "source": [
       "## Upload and check again"
      ]
     },
     {
      "cell_type": "markdown",
      "metadata": {},
      "source": [
       "Use the function to upload the `models` folder in a rescursive fashion:"
      ]
     },
     {
      "cell_type": "code",
      "execution_count": 5,
      "metadata": {
       "tags": []
      },
      "outputs": [
       {
        "name": "stdout",
        "output_type": "stream",
        "text": [
         "granite-3.0-8b-instruct/generation_config.json -> models/granite-3.0-8b-instruct/generation_config.json\n",
         "granite-3.0-8b-instruct/model-00004-of-00004.safetensors -> models/granite-3.0-8b-instruct/model-00004-of-00004.safetensors\n",
         "granite-3.0-8b-instruct/special_tokens_map.json -> models/granite-3.0-8b-instruct/special_tokens_map.json\n",
         "granite-3.0-8b-instruct/added_tokens.json -> models/granite-3.0-8b-instruct/added_tokens.json\n",
         "granite-3.0-8b-instruct/config.json -> models/granite-3.0-8b-instruct/config.json\n",
         "granite-3.0-8b-instruct/README.md -> models/granite-3.0-8b-instruct/README.md\n",
         "granite-3.0-8b-instruct/model.safetensors.index.json -> models/granite-3.0-8b-instruct/model.safetensors.index.json\n",
         "granite-3.0-8b-instruct/model-00003-of-00004.safetensors -> models/granite-3.0-8b-instruct/model-00003-of-00004.safetensors\n",
         "granite-3.0-8b-instruct/model-00002-of-00004.safetensors -> models/granite-3.0-8b-instruct/model-00002-of-00004.safetensors\n",
         "granite-3.0-8b-instruct/merges.txt -> models/granite-3.0-8b-instruct/merges.txt\n",
         "granite-3.0-8b-instruct/tokenizer_config.json -> models/granite-3.0-8b-instruct/tokenizer_config.json\n",
         "granite-3.0-8b-instruct/model-00001-of-00004.safetensors -> models/granite-3.0-8b-instruct/model-00001-of-00004.safetensors\n",
         "granite-3.0-8b-instruct/tokenizer.json -> models/granite-3.0-8b-instruct/tokenizer.json\n",
         "granite-3.0-8b-instruct/vocab.json -> models/granite-3.0-8b-instruct/vocab.json\n"
        ]
       }
      ],
      "source": [
       "upload_directory_to_s3(\"granite-3.0-8b-instruct\", \"models/granite-3.0-8b-instruct\")"
      ]
     },
     {
      "cell_type": "markdown",
      "metadata": {
       "tags": []
      },
      "source": [
       "To confirm this worked, run the `list_objects` function again:"
      ]
     },
     {
      "cell_type": "code",
      "execution_count": 6,
      "metadata": {
       "tags": []
      },
      "outputs": [
       {
        "name": "stdout",
        "output_type": "stream",
        "text": [
         "models/granite-3.0-8b-instruct/README.md\n",
         "models/granite-3.0-8b-instruct/added_tokens.json\n",
         "models/granite-3.0-8b-instruct/config.json\n",
         "models/granite-3.0-8b-instruct/generation_config.json\n",
         "models/granite-3.0-8b-instruct/merges.txt\n",
         "models/granite-3.0-8b-instruct/model-00001-of-00004.safetensors\n",
         "models/granite-3.0-8b-instruct/model-00002-of-00004.safetensors\n",
         "models/granite-3.0-8b-instruct/model-00003-of-00004.safetensors\n",
         "models/granite-3.0-8b-instruct/model-00004-of-00004.safetensors\n",
         "models/granite-3.0-8b-instruct/model.safetensors.index.json\n",
         "models/granite-3.0-8b-instruct/special_tokens_map.json\n",
         "models/granite-3.0-8b-instruct/tokenizer.json\n",
         "models/granite-3.0-8b-instruct/tokenizer_config.json\n",
         "models/granite-3.0-8b-instruct/vocab.json\n"
        ]
       }
      ],
      "source": [
       "list_objects(\"models\")"
      ]
     },
     {
      "cell_type": "code",
      "execution_count": null,
      "metadata": {},
      "outputs": [],
      "source": []
     }
    ],
    "metadata": {
     "celltoolbar": "Raw Cell Format",
     "kernelspec": {
      "display_name": "Python 3.9",
      "language": "python",
      "name": "python3"
     },
     "language_info": {
      "codemirror_mode": {
       "name": "ipython",
       "version": 3
      },
      "file_extension": ".py",
      "mimetype": "text/x-python",
      "name": "python",
      "nbconvert_exporter": "python",
      "pygments_lexer": "ipython3",
      "version": "3.9.18"
     }
    },
    "nbformat": 4,
    "nbformat_minor": 4
   }
   